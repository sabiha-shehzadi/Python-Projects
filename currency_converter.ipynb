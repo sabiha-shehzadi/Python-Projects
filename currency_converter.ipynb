{
  "nbformat": 4,
  "nbformat_minor": 0,
  "metadata": {
    "colab": {
      "provenance": [],
      "authorship_tag": "ABX9TyMraBsWolc99u8YxKYSYt+x",
      "include_colab_link": true
    },
    "kernelspec": {
      "name": "python3",
      "display_name": "Python 3"
    },
    "language_info": {
      "name": "python"
    }
  },
  "cells": [
    {
      "cell_type": "markdown",
      "metadata": {
        "id": "view-in-github",
        "colab_type": "text"
      },
      "source": [
        "<a href=\"https://colab.research.google.com/github/sabiha-shehzadi/Python-Projects/blob/main/currency_converter.ipynb\" target=\"_parent\"><img src=\"https://colab.research.google.com/assets/colab-badge.svg\" alt=\"Open In Colab\"/></a>"
      ]
    },
    {
      "cell_type": "code",
      "execution_count": 2,
      "metadata": {
        "colab": {
          "base_uri": "https://localhost:8080/"
        },
        "id": "4mJwuMm7p8U0",
        "outputId": "177d27a4-f946-408a-876a-5664df008567"
      },
      "outputs": [
        {
          "output_type": "stream",
          "name": "stdout",
          "text": [
            "Enter amount: 50000\n",
            "From currency (USD, PKR, EUR, INR, SAR): pkr\n",
            "To currency (USD, PKR, EUR, INR, SAR): usd\n",
            "50000.0 PKR = 180.18 USD\n"
          ]
        }
      ],
      "source": [
        "# Simple Currency Converter (Fixed Rates)\n",
        "\n",
        "def currency_converter(amount, from_currency, to_currency):\n",
        "    # Exchange rates relative to USD\n",
        "    rates = {\n",
        "        \"USD\": 1,\n",
        "        \"PKR\": 277.5,\n",
        "        \"EUR\": 0.92,\n",
        "        \"INR\": 83.1,\n",
        "        \"SAR\": 3.75\n",
        "    }\n",
        "\n",
        "    if from_currency not in rates or to_currency not in rates:\n",
        "        return \"Currency not supported.\"\n",
        "\n",
        "    # Convert from 'from_currency' to USD, then to 'to_currency'\n",
        "    usd_amount = amount / rates[from_currency]\n",
        "    converted_amount = usd_amount * rates[to_currency]\n",
        "\n",
        "    return round(converted_amount, 2)\n",
        "\n",
        "# Example usage\n",
        "amount = float(input(\"Enter amount: \"))\n",
        "from_curr = input(\"From currency (USD, PKR, EUR, INR, SAR): \").upper()\n",
        "to_curr = input(\"To currency (USD, PKR, EUR, INR, SAR): \").upper()\n",
        "\n",
        "result = currency_converter(amount, from_curr, to_curr)\n",
        "print(f\"{amount} {from_curr} = {result} {to_curr}\")\n"
      ]
    }
  ]
}