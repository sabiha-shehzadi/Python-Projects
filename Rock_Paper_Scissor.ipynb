{
  "nbformat": 4,
  "nbformat_minor": 0,
  "metadata": {
    "colab": {
      "provenance": [],
      "authorship_tag": "ABX9TyPTnNUvEgZMWjFEj1Epy2In",
      "include_colab_link": true
    },
    "kernelspec": {
      "name": "python3",
      "display_name": "Python 3"
    },
    "language_info": {
      "name": "python"
    }
  },
  "cells": [
    {
      "cell_type": "markdown",
      "metadata": {
        "id": "view-in-github",
        "colab_type": "text"
      },
      "source": [
        "<a href=\"https://colab.research.google.com/github/sabiha-shehzadi/Python-Projects/blob/main/Rock_Paper_Scissor.ipynb\" target=\"_parent\"><img src=\"https://colab.research.google.com/assets/colab-badge.svg\" alt=\"Open In Colab\"/></a>"
      ]
    },
    {
      "cell_type": "code",
      "execution_count": null,
      "metadata": {
        "id": "TEjZT2P-XwxY"
      },
      "outputs": [],
      "source": [
        "import random"
      ]
    },
    {
      "cell_type": "code",
      "source": [
        "choices = (\"r\", \"p\", \"s\")\n",
        "\n",
        "user_choice = input(\"Enter your choice (r, p, s): \").lower()\n",
        "if user_choice not in choices:\n",
        "    print(\"Invalid choice. Please try again.\")\n",
        "\n",
        "computer_choice = random.choice(choices)\n",
        "if user_choice == computer_choice:\n",
        "    print(\"It's a tie!\")\n",
        "elif ((user_choice == \"r\" and computer_choice == \"s\") or\n",
        "      (user_choice == \"s\" and computer_choice == \"p\") or\n",
        "      (user_choice == \"p\" and computer_choice == \"r\")):\n",
        "    print(\"You win!\")\n",
        "else:\n",
        "   if ((user_choice == \"r\" and computer_choice == \"p\") or\n",
        "      (user_choice == \"s\" and computer_choice == \"r\") or\n",
        "      (user_choice == \"p\" and computer_choice == \"s\")):\n",
        "    print(\"Computer Wins!\")\n",
        "\n",
        "should_continue = input(\"Do you want to play again? (y/n): \").lower()\n",
        "if should_continue == \"y\":\n",
        "    print(\"Let's play again!\")\n",
        "    print(user_choice)\n",
        "else:\n",
        "    print(\"Yes now its finished!\")\n"
      ],
      "metadata": {
        "colab": {
          "base_uri": "https://localhost:8080/"
        },
        "id": "-w8cX5qgaw5P",
        "outputId": "9a4db329-922c-48d9-f749-eb8f78b8edb4"
      },
      "execution_count": null,
      "outputs": [
        {
          "output_type": "stream",
          "name": "stdout",
          "text": [
            "Enter your choice (r, p, s): r\n",
            "Computer Wins!\n",
            "Do you want to play again? (y/n): y\n",
            "Let's play again!\n",
            "r\n"
          ]
        }
      ]
    }
  ]
}