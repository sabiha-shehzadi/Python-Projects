{
  "nbformat": 4,
  "nbformat_minor": 0,
  "metadata": {
    "colab": {
      "provenance": [],
      "authorship_tag": "ABX9TyOffMPuWp6GuMyog22jYz9T",
      "include_colab_link": true
    },
    "kernelspec": {
      "name": "python3",
      "display_name": "Python 3"
    },
    "language_info": {
      "name": "python"
    }
  },
  "cells": [
    {
      "cell_type": "markdown",
      "metadata": {
        "id": "view-in-github",
        "colab_type": "text"
      },
      "source": [
        "<a href=\"https://colab.research.google.com/github/sabiha-shehzadi/Python-Projects/blob/main/Rock_Paper_Scissor.ipynb\" target=\"_parent\"><img src=\"https://colab.research.google.com/assets/colab-badge.svg\" alt=\"Open In Colab\"/></a>"
      ]
    },
    {
      "cell_type": "code",
      "execution_count": 1,
      "metadata": {
        "id": "TEjZT2P-XwxY"
      },
      "outputs": [],
      "source": [
        "import random"
      ]
    },
    {
      "cell_type": "code",
      "source": [
        "import random\n",
        "\n",
        "choices = (\"r\", \"p\", \"s\")\n",
        "\n",
        "print(\"Welcome to Rock, Paper, Scissors!\")\n",
        "print(\"r = Rock, p = Paper, s = Scissors\")\n",
        "\n",
        "while True:\n",
        "    user_choice = input(\"Enter your choice (r, p, s): \").lower()\n",
        "\n",
        "    if user_choice not in choices:\n",
        "        print(\"Invalid choice. Please try again.\")\n",
        "        continue  # go back and ask again\n",
        "\n",
        "    computer_choice = random.choice(choices)\n",
        "    print(f\"You chose: {user_choice}, Computer chose: {computer_choice}\")\n",
        "\n",
        "    if user_choice == computer_choice:\n",
        "        print(\"It's a tie!\")\n",
        "    elif ((user_choice == \"r\" and computer_choice == \"s\") or\n",
        "          (user_choice == \"s\" and computer_choice == \"p\") or\n",
        "          (user_choice == \"p\" and computer_choice == \"r\")):\n",
        "        print(\"🎉 You win!\")\n",
        "    else:\n",
        "        print(\"💻 Computer wins!\")\n",
        "\n",
        "    should_continue = input(\"Do you want to play again? (y/n): \").lower()\n",
        "    if should_continue != \"y\":\n",
        "        print(\"Game Over. Thanks for playing! 👋\")\n",
        "        break\n",
        "\n"
      ],
      "metadata": {
        "colab": {
          "base_uri": "https://localhost:8080/"
        },
        "id": "-w8cX5qgaw5P",
        "outputId": "d31e5311-1b4b-4970-ae4e-47499942b2b0"
      },
      "execution_count": 2,
      "outputs": [
        {
          "output_type": "stream",
          "name": "stdout",
          "text": [
            "Welcome to Rock, Paper, Scissors!\n",
            "r = Rock, p = Paper, s = Scissors\n",
            "Enter your choice (r, p, s): p\n",
            "You chose: p, Computer chose: s\n",
            "💻 Computer wins!\n",
            "Do you want to play again? (y/n): y\n",
            "Enter your choice (r, p, s): s\n",
            "You chose: s, Computer chose: r\n",
            "💻 Computer wins!\n",
            "Do you want to play again? (y/n): y\n",
            "Enter your choice (r, p, s): r\n",
            "You chose: r, Computer chose: r\n",
            "It's a tie!\n",
            "Do you want to play again? (y/n): y\n",
            "Enter your choice (r, p, s): p\n",
            "You chose: p, Computer chose: p\n",
            "It's a tie!\n",
            "Do you want to play again? (y/n): y\n",
            "Enter your choice (r, p, s): p\n",
            "You chose: p, Computer chose: p\n",
            "It's a tie!\n",
            "Do you want to play again? (y/n): s\n",
            "Game Over. Thanks for playing! 👋\n"
          ]
        }
      ]
    }
  ]
}