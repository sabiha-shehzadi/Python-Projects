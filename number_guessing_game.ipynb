{
  "nbformat": 4,
  "nbformat_minor": 0,
  "metadata": {
    "colab": {
      "provenance": [],
      "authorship_tag": "ABX9TyMM0JZCg6cFmDocibKNwIvH",
      "include_colab_link": true
    },
    "kernelspec": {
      "name": "python3",
      "display_name": "Python 3"
    },
    "language_info": {
      "name": "python"
    }
  },
  "cells": [
    {
      "cell_type": "markdown",
      "metadata": {
        "id": "view-in-github",
        "colab_type": "text"
      },
      "source": [
        "<a href=\"https://colab.research.google.com/github/sabiha-shehzadi/Python-Projects/blob/main/number_guessing_game.ipynb\" target=\"_parent\"><img src=\"https://colab.research.google.com/assets/colab-badge.svg\" alt=\"Open In Colab\"/></a>"
      ]
    },
    {
      "cell_type": "code",
      "execution_count": 9,
      "metadata": {
        "id": "DhQPtfN-HXFN"
      },
      "outputs": [],
      "source": [
        "import random\n"
      ]
    },
    {
      "cell_type": "code",
      "source": [
        "random_num_to_guess  = random.randint(1,100)"
      ],
      "metadata": {
        "id": "Yuii_c_IHgwD"
      },
      "execution_count": 10,
      "outputs": []
    },
    {
      "cell_type": "code",
      "source": [
        "user_input = input(\"Guess a number between 1 and 100: \")\n",
        "guess = int(user_input)"
      ],
      "metadata": {
        "colab": {
          "base_uri": "https://localhost:8080/"
        },
        "id": "mM7OFvUVHtOR",
        "outputId": "06608d88-edab-4e9b-d1c8-8bdb49f2f483"
      },
      "execution_count": 27,
      "outputs": [
        {
          "name": "stdout",
          "output_type": "stream",
          "text": [
            "Guess a number between 1 and 100: 60\n"
          ]
        }
      ]
    },
    {
      "cell_type": "code",
      "source": [
        "if random_num_to_guess == guess:\n",
        "  print (\"welldone!\")\n",
        "elif random_num_to_guess >guess:\n",
        "  print(\"too low\")\n",
        "elif random_num_to_guess < guess:\n",
        "  print(\"too high\")\n",
        "else:\n",
        "  print(\"invalid input\")"
      ],
      "metadata": {
        "colab": {
          "base_uri": "https://localhost:8080/"
        },
        "id": "_lDZG9rnJTIF",
        "outputId": "6a95eeeb-d9d9-4b15-d244-aaa43f9c2dd1"
      },
      "execution_count": 28,
      "outputs": [
        {
          "output_type": "stream",
          "name": "stdout",
          "text": [
            "welldone!\n"
          ]
        }
      ]
    }
  ]
}