{
  "nbformat": 4,
  "nbformat_minor": 0,
  "metadata": {
    "colab": {
      "provenance": [],
      "authorship_tag": "ABX9TyNk4EM0DMfpwmXK3d+eTus8",
      "include_colab_link": true
    },
    "kernelspec": {
      "name": "python3",
      "display_name": "Python 3"
    },
    "language_info": {
      "name": "python"
    }
  },
  "cells": [
    {
      "cell_type": "markdown",
      "metadata": {
        "id": "view-in-github",
        "colab_type": "text"
      },
      "source": [
        "<a href=\"https://colab.research.google.com/github/sabiha-shehzadi/Python-Projects/blob/main/qr_code_generator.ipynb\" target=\"_parent\"><img src=\"https://colab.research.google.com/assets/colab-badge.svg\" alt=\"Open In Colab\"/></a>"
      ]
    },
    {
      "cell_type": "code",
      "source": [
        "pip install qrcode[pil] pillow segno\n"
      ],
      "metadata": {
        "colab": {
          "base_uri": "https://localhost:8080/"
        },
        "collapsed": true,
        "id": "b_TTMk6VcJir",
        "outputId": "e407e8bb-f626-4bf7-9c0b-07fa7bc0d817"
      },
      "execution_count": null,
      "outputs": [
        {
          "output_type": "stream",
          "name": "stdout",
          "text": [
            "Requirement already satisfied: pillow in /usr/local/lib/python3.12/dist-packages (11.3.0)\n",
            "Collecting segno\n",
            "  Downloading segno-1.6.6-py3-none-any.whl.metadata (7.7 kB)\n",
            "Collecting qrcode[pil]\n",
            "  Downloading qrcode-8.2-py3-none-any.whl.metadata (17 kB)\n",
            "Downloading segno-1.6.6-py3-none-any.whl (76 kB)\n",
            "\u001b[2K   \u001b[90m━━━━━━━━━━━━━━━━━━━━━━━━━━━━━━━━━━━━━━━━\u001b[0m \u001b[32m76.5/76.5 kB\u001b[0m \u001b[31m4.7 MB/s\u001b[0m eta \u001b[36m0:00:00\u001b[0m\n",
            "\u001b[?25hDownloading qrcode-8.2-py3-none-any.whl (45 kB)\n",
            "\u001b[2K   \u001b[90m━━━━━━━━━━━━━━━━━━━━━━━━━━━━━━━━━━━━━━━━\u001b[0m \u001b[32m46.0/46.0 kB\u001b[0m \u001b[31m1.1 MB/s\u001b[0m eta \u001b[36m0:00:00\u001b[0m\n",
            "\u001b[?25hInstalling collected packages: segno, qrcode\n",
            "Successfully installed qrcode-8.2 segno-1.6.6\n"
          ]
        }
      ]
    },
    {
      "cell_type": "code",
      "source": [
        "import qrcode\n",
        "\n",
        "linkedin_qr = \"https://www.linkedin.com/in/sabiha-shehzadi/\"\n",
        "img = qrcode.make(linkedin_qr)          # simple one-liner\n",
        "img.save(\"my_linkedin_qr.png\")\n",
        "print(\"Saved my_linkedin_qr.png\")\n",
        "\n",
        "\n",
        "github_qr = \"https://github.com/sabiha-shehzadi/Python-Projects\"\n",
        "img2 = qrcode.make(github_qr)          # simple one-liner\n",
        "img2.save(\"my_github_qr.png\")\n",
        "print(\"Saved my_github_qr.png\")\n"
      ],
      "metadata": {
        "colab": {
          "base_uri": "https://localhost:8080/"
        },
        "id": "_A3JB8fJcKgn",
        "outputId": "122c968d-b5e6-4583-8879-d7493e5d6e73"
      },
      "execution_count": null,
      "outputs": [
        {
          "output_type": "stream",
          "name": "stdout",
          "text": [
            "Saved my_linkedin_qr.png\n",
            "Saved my_github_qr.png\n"
          ]
        }
      ]
    }
  ]
}